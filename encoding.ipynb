{
 "cells": [
  {
   "cell_type": "markdown",
   "metadata": {},
   "source": [
    "# Задание 1"
   ]
  },
  {
   "cell_type": "markdown",
   "metadata": {},
   "source": [
    "###### Каждое из слов «разработка», «сокет», «декоратор» представить в строковом формате и проверить тип и содержание соответствующих переменных. Затем с помощью онлайн-конвертера преобразовать строковые представление в формат Unicode и также проверить тип и содержимое переменных."
   ]
  },
  {
   "cell_type": "code",
   "execution_count": 45,
   "metadata": {},
   "outputs": [
    {
     "name": "stdout",
     "output_type": "stream",
     "text": [
      "разработка\n",
      "<class 'str'>\n",
      "b'\\xd1\\x80\\xd0\\xb0\\xd0\\xb7\\xd1\\x80\\xd0\\xb0\\xd0\\xb1\\xd0\\xbe\\xd1\\x82\\xd0\\xba\\xd0\\xb0'\n",
      "<class 'bytes'>\n",
      "разработка\n",
      "<class 'str'>\n"
     ]
    }
   ],
   "source": [
    "word_source_1 = 'разработка'\n",
    "print(word_source_1)\n",
    "print(type(word_source_1))\n",
    "word_bite_1 = word_source_1.encode('utf-8')\n",
    "print(word_bite_1)\n",
    "print(type(word_bite_1))\n",
    "word_str_1 = word_bite_1.decode('utf-8')\n",
    "print(word_str_1)\n",
    "print(type(word_str_1))"
   ]
  },
  {
   "cell_type": "code",
   "execution_count": 46,
   "metadata": {},
   "outputs": [
    {
     "name": "stdout",
     "output_type": "stream",
     "text": [
      "сокет\n",
      "<class 'str'>\n",
      "b'\\xd1\\x81\\xd0\\xbe\\xd0\\xba\\xd0\\xb5\\xd1\\x82'\n",
      "<class 'bytes'>\n",
      "сокет\n",
      "<class 'str'>\n"
     ]
    }
   ],
   "source": [
    "word_source_2 = 'сокет'\n",
    "print(word_source_2)\n",
    "print(type(word_source_2))\n",
    "word_bite_2 = word_source_2.encode('utf-8')\n",
    "print(word_bite_2)\n",
    "print(type(word_bite_2))\n",
    "word_str_2 = word_bite_2.decode('utf-8')\n",
    "print(word_str_2)\n",
    "print(type(word_str_2))"
   ]
  },
  {
   "cell_type": "code",
   "execution_count": 47,
   "metadata": {},
   "outputs": [
    {
     "name": "stdout",
     "output_type": "stream",
     "text": [
      "декоратор\n",
      "<class 'str'>\n",
      "b'\\xd0\\xb4\\xd0\\xb5\\xd0\\xba\\xd0\\xbe\\xd1\\x80\\xd0\\xb0\\xd1\\x82\\xd0\\xbe\\xd1\\x80'\n",
      "<class 'bytes'>\n",
      "декоратор\n",
      "<class 'str'>\n"
     ]
    }
   ],
   "source": [
    "word_source_3 = 'декоратор'\n",
    "print(word_source_3)\n",
    "print(type(word_source_3))\n",
    "word_bite_3 = word_source_3.encode('utf-8')\n",
    "print(word_bite_3)\n",
    "print(type(word_bite_3))\n",
    "word_str_3 = word_bite_3.decode('utf-8')\n",
    "print(word_str_3)\n",
    "print(type(word_str_3))"
   ]
  },
  {
   "cell_type": "markdown",
   "metadata": {},
   "source": [
    "# Задание 2"
   ]
  },
  {
   "cell_type": "markdown",
   "metadata": {},
   "source": [
    "###### Каждое из слов «class», «function», «method» записать в байтовом типе без преобразования в последовательность кодов (не используя методы encode и decode) и определить тип, содержимое и длину соответствующих переменных."
   ]
  },
  {
   "cell_type": "code",
   "execution_count": 48,
   "metadata": {},
   "outputs": [
    {
     "name": "stdout",
     "output_type": "stream",
     "text": [
      "<class 'bytes'>\n",
      "b'class'\n",
      "5\n"
     ]
    }
   ],
   "source": [
    "word_bite_1 = b'class'\n",
    "print(type(word_bite_1))\n",
    "print(word_bite_1)\n",
    "print(len(word_bite_1))"
   ]
  },
  {
   "cell_type": "code",
   "execution_count": 49,
   "metadata": {},
   "outputs": [
    {
     "name": "stdout",
     "output_type": "stream",
     "text": [
      "<class 'bytes'>\n",
      "b'function'\n",
      "8\n"
     ]
    }
   ],
   "source": [
    "word_bite_2 = b'function'\n",
    "print(type(word_bite_2))\n",
    "print(word_bite_2)\n",
    "print(len(word_bite_2))"
   ]
  },
  {
   "cell_type": "code",
   "execution_count": 50,
   "metadata": {},
   "outputs": [
    {
     "name": "stdout",
     "output_type": "stream",
     "text": [
      "<class 'bytes'>\n",
      "b'method'\n",
      "6\n"
     ]
    }
   ],
   "source": [
    "word_bite_3 = b'method'\n",
    "print(type(word_bite_3))\n",
    "print(word_bite_3)\n",
    "print(len(word_bite_3))"
   ]
  },
  {
   "cell_type": "markdown",
   "metadata": {},
   "source": [
    "# Задание 3"
   ]
  },
  {
   "cell_type": "markdown",
   "metadata": {},
   "source": [
    "###### Определить, какие из слов «attribute», «класс», «функция», «type» невозможно записать в байтовом типе."
   ]
  },
  {
   "cell_type": "code",
   "execution_count": 51,
   "metadata": {},
   "outputs": [
    {
     "name": "stdout",
     "output_type": "stream",
     "text": [
      "attribute\n"
     ]
    }
   ],
   "source": [
    "try:\n",
    "    word_source_1 = 'attribute'\n",
    "    word_bite_1 = word_source_1.encode('ascii')\n",
    "    word_str_1 = word_bite_1.decode('ascii')\n",
    "    print(word_str_1)\n",
    "except:\n",
    "    print('Can not be encode')"
   ]
  },
  {
   "cell_type": "code",
   "execution_count": 52,
   "metadata": {},
   "outputs": [
    {
     "name": "stdout",
     "output_type": "stream",
     "text": [
      "Can not be encode\n"
     ]
    }
   ],
   "source": [
    "try:\n",
    "    word_source_2 = 'класс'\n",
    "    word_bite_2 = word_source_2.encode('ascii')\n",
    "    word_str_2 = word_bite_2.decode('ascii')\n",
    "    print(word_str_2)\n",
    "except:\n",
    "    print('Can not be encode')\n"
   ]
  },
  {
   "cell_type": "code",
   "execution_count": 53,
   "metadata": {},
   "outputs": [
    {
     "name": "stdout",
     "output_type": "stream",
     "text": [
      "Can not be encode\n"
     ]
    }
   ],
   "source": [
    "try:\n",
    "    word_source_3 = 'функция'\n",
    "    word_bite_3 = word_source_3.encode('ascii')\n",
    "    word_str_3 = word_bite_3.decode('ascii')\n",
    "    print(word_str_3)\n",
    "except:\n",
    "    print('Can not be encode')"
   ]
  },
  {
   "cell_type": "code",
   "execution_count": 54,
   "metadata": {},
   "outputs": [
    {
     "name": "stdout",
     "output_type": "stream",
     "text": [
      "type\n"
     ]
    }
   ],
   "source": [
    "try:\n",
    "    word_source_4 = 'type'\n",
    "    word_bite_4 = word_source_4.encode('ascii')\n",
    "    word_str_4 = word_bite_4.decode('ascii')\n",
    "    print(word_str_4)\n",
    "except:\n",
    "    print('Can not be encode')"
   ]
  },
  {
   "cell_type": "markdown",
   "metadata": {},
   "source": [
    "# Задание 4"
   ]
  },
  {
   "cell_type": "markdown",
   "metadata": {},
   "source": [
    "###### Преобразовать слова «разработка», «администрирование», «protocol», «standard» из строкового представления в байтовое и выполнить обратное преобразование (используя методы encode и decode)."
   ]
  },
  {
   "cell_type": "code",
   "execution_count": 55,
   "metadata": {},
   "outputs": [
    {
     "name": "stdout",
     "output_type": "stream",
     "text": [
      "разработка\n",
      "<class 'str'>\n",
      "b'\\xd1\\x80\\xd0\\xb0\\xd0\\xb7\\xd1\\x80\\xd0\\xb0\\xd0\\xb1\\xd0\\xbe\\xd1\\x82\\xd0\\xba\\xd0\\xb0'\n",
      "<class 'bytes'>\n",
      "разработка\n",
      "<class 'str'>\n"
     ]
    }
   ],
   "source": [
    "word_source_1 = 'разработка'\n",
    "print(word_source_1)\n",
    "print(type(word_source_1))\n",
    "word_bite_1 = word_source_1.encode('utf-8')\n",
    "print(word_bite_1)\n",
    "print(type(word_bite_1))\n",
    "word_str_1 = word_bite_1.decode('utf-8')\n",
    "print(word_str_1)\n",
    "print(type(word_str_1))"
   ]
  },
  {
   "cell_type": "code",
   "execution_count": 56,
   "metadata": {},
   "outputs": [
    {
     "name": "stdout",
     "output_type": "stream",
     "text": [
      "администрирование\n",
      "<class 'str'>\n",
      "b'\\xd0\\xb0\\xd0\\xb4\\xd0\\xbc\\xd0\\xb8\\xd0\\xbd\\xd0\\xb8\\xd1\\x81\\xd1\\x82\\xd1\\x80\\xd0\\xb8\\xd1\\x80\\xd0\\xbe\\xd0\\xb2\\xd0\\xb0\\xd0\\xbd\\xd0\\xb8\\xd0\\xb5'\n",
      "<class 'bytes'>\n",
      "администрирование\n",
      "<class 'str'>\n"
     ]
    }
   ],
   "source": [
    "word_source_2 = 'администрирование'\n",
    "print(word_source_2)\n",
    "print(type(word_source_2))\n",
    "word_bite_2 = word_source_2.encode('utf-8')\n",
    "print(word_bite_2)\n",
    "print(type(word_bite_2))\n",
    "word_str_2 = word_bite_2.decode('utf-8')\n",
    "print(word_str_2)\n",
    "print(type(word_str_2))"
   ]
  },
  {
   "cell_type": "code",
   "execution_count": 57,
   "metadata": {},
   "outputs": [
    {
     "name": "stdout",
     "output_type": "stream",
     "text": [
      "protocol\n",
      "<class 'str'>\n",
      "b'protocol'\n",
      "<class 'bytes'>\n",
      "protocol\n",
      "<class 'str'>\n"
     ]
    }
   ],
   "source": [
    "word_source_3 = 'protocol'\n",
    "print(word_source_3)\n",
    "print(type(word_source_3))\n",
    "word_bite_3 = word_source_3.encode('utf-8')\n",
    "print(word_bite_3)\n",
    "print(type(word_bite_3))\n",
    "word_str_3 = word_bite_3.decode('utf-8')\n",
    "print(word_str_3)\n",
    "print(type(word_str_3))"
   ]
  },
  {
   "cell_type": "code",
   "execution_count": 58,
   "metadata": {},
   "outputs": [
    {
     "name": "stdout",
     "output_type": "stream",
     "text": [
      "standard\n",
      "<class 'str'>\n",
      "b'standard'\n",
      "<class 'bytes'>\n",
      "standard\n",
      "<class 'str'>\n"
     ]
    }
   ],
   "source": [
    "word_source_4 = 'standard'\n",
    "print(word_source_4)\n",
    "print(type(word_source_4))\n",
    "word_bite_4 = word_source_4.encode('utf-8')\n",
    "print(word_bite_4)\n",
    "print(type(word_bite_4))\n",
    "word_str_4 = word_bite_4.decode('utf-8')\n",
    "print(word_str_4)\n",
    "print(type(word_str_4))"
   ]
  },
  {
   "cell_type": "markdown",
   "metadata": {},
   "source": [
    "# Задание 5"
   ]
  },
  {
   "cell_type": "markdown",
   "metadata": {},
   "source": [
    "###### Выполнить пинг веб-ресурсов yandex.ru, youtube.com и преобразовать результаты из байтовового в строковый тип на кириллице."
   ]
  },
  {
   "cell_type": "code",
   "execution_count": 59,
   "metadata": {},
   "outputs": [
    {
     "name": "stdout",
     "output_type": "stream",
     "text": [
      "PING yandex.ru (5.255.255.5): 56 data bytes\n",
      "64 bytes from 5.255.255.5: icmp_seq=0 ttl=54 time=5.786 ms\n",
      "64 bytes from 5.255.255.5: icmp_seq=1 ttl=54 time=6.611 ms\n",
      "64 bytes from 5.255.255.5: icmp_seq=2 ttl=54 time=31.656 ms\n",
      "64 bytes from 5.255.255.5: icmp_seq=3 ttl=54 time=7.156 ms\n",
      "\n",
      "--- yandex.ru ping statistics ---\n",
      "4 packets transmitted, 4 packets received, 0.0% packet loss\n",
      "round-trip min/avg/max/stddev = 5.786/12.802/31.656/10.896 ms\n"
     ]
    }
   ],
   "source": [
    "import subprocess\n",
    "\n",
    "args = ['ping', '-c4', 'yandex.ru']\n",
    "\n",
    "subproc_ping = subprocess.Popen(args, stdout=subprocess.PIPE)\n",
    "\n",
    "for line in subproc_ping.stdout:\n",
    "    print(line.decode('utf-8'), end = '')"
   ]
  },
  {
   "cell_type": "code",
   "execution_count": 60,
   "metadata": {},
   "outputs": [
    {
     "name": "stdout",
     "output_type": "stream",
     "text": [
      "PING youtube.com (173.194.32.194): 56 data bytes\n",
      "64 bytes from 173.194.32.194: icmp_seq=0 ttl=119 time=24.179 ms\n",
      "64 bytes from 173.194.32.194: icmp_seq=1 ttl=119 time=35.875 ms\n",
      "64 bytes from 173.194.32.194: icmp_seq=2 ttl=119 time=4.664 ms\n",
      "64 bytes from 173.194.32.194: icmp_seq=3 ttl=119 time=4.355 ms\n",
      "\n",
      "--- youtube.com ping statistics ---\n",
      "4 packets transmitted, 4 packets received, 0.0% packet loss\n",
      "round-trip min/avg/max/stddev = 4.355/17.268/35.875/13.413 ms\n"
     ]
    }
   ],
   "source": [
    "args = ['ping', '-c4', 'youtube.com']\n",
    "\n",
    "subproc_ping = subprocess.Popen(args, stdout=subprocess.PIPE)\n",
    "\n",
    "for line in subproc_ping.stdout:\n",
    "    print(line.decode('utf-8'), end = '')"
   ]
  },
  {
   "cell_type": "markdown",
   "metadata": {},
   "source": [
    "# Задание 6"
   ]
  },
  {
   "cell_type": "markdown",
   "metadata": {},
   "source": [
    "###### Создать текстовый файл test_file.txt, заполнить его тремя строками: «сетевое программирование», «сокет», «декоратор». Проверить кодировку файла по умолчанию. Принудительно открыть файл в формате Unicode и вывести его содержимое."
   ]
  },
  {
   "cell_type": "code",
   "execution_count": 61,
   "metadata": {},
   "outputs": [
    {
     "name": "stdout",
     "output_type": "stream",
     "text": [
      "<_io.TextIOWrapper name='test_file.txt' mode='r' encoding='UTF-8'>\n",
      "сетевое программирование\n",
      "сокет\n",
      "декоратор\n"
     ]
    }
   ],
   "source": [
    "with open(\"test_file.txt\") as file:\n",
    "    print(f_n)\n",
    "\n",
    "with open(\"test_file.txt\", encoding='utf-8') as file:\n",
    "    for line in file:\n",
    "        print(line.strip())"
   ]
  }
 ],
 "metadata": {
  "kernelspec": {
   "display_name": "Python 3",
   "language": "python",
   "name": "python3"
  },
  "language_info": {
   "codemirror_mode": {
    "name": "ipython",
    "version": 3
   },
   "file_extension": ".py",
   "mimetype": "text/x-python",
   "name": "python",
   "nbconvert_exporter": "python",
   "pygments_lexer": "ipython3",
   "version": "3.7.1"
  }
 },
 "nbformat": 4,
 "nbformat_minor": 2
}
